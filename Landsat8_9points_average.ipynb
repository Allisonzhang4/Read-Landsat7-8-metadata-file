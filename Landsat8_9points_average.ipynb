{
 "cells": [
  {
   "cell_type": "code",
   "execution_count": null,
   "metadata": {},
   "outputs": [],
   "source": [
    "import numpy as np\n",
    "import netCDF4 as nc\n",
    "import pandas as pd\n",
    "import numpy as np\n",
    "import csv\n",
    "import os\n",
    "\n",
    "def loadimage(path):\n",
    "    file_obj = nc.Dataset(path, 'r', Format = 'Netcdf4')\n",
    "    print(file_obj.variables.keys())\n",
    "    data_mat = list()\n",
    "    for i in file_obj.variables.keys():\n",
    "        data_mat.append(file_obj.variables[i][:])\n",
    "        \n",
    "    return data_mat, file_obj\n",
    "\n",
    "\n",
    "def locationid(data_mat, longi, lati):\n",
    "    difflon_mat = abs(np.array(data_mat[0]) - longi)\n",
    "    #print(np.array(data_mat[0]))\n",
    "    #print(difflon_mat)\n",
    "    difflat_mat = abs(np.array(data_mat[1]) - lati)\n",
    "    diffloca_mat = difflat_mat + difflon_mat\n",
    "    #print(diffloca_mat)\n",
    "    in_1dim = np.argpartition(diffloca_mat.ravel(), 9)[:9]\n",
    "    #print(lati,longi)\n",
    "    \n",
    "    minid = np.unravel_index(in_1dim, diffloca_mat.shape)\n",
    "    \n",
    "    idmin = [x for x in zip(minid[0], minid[1])]\n",
    "    #print(idmin)\n",
    "    #print(diffloca_mat[minid])\n",
    "    #print(sorted(list(diffloca_mat.reshape(-1)))[:4])\n",
    "    \n",
    "\n",
    "    return idmin#tuple\n",
    "\n",
    "def data_min4(idmin_list, file_obj):\n",
    "    listnull = []\n",
    "    for j in file_obj.variables.keys():\n",
    "        listv = []\n",
    "    \n",
    "        for i in idmin_list:\n",
    "            listv.append(file_obj.variables[j][i].data[()])\n",
    "            \n",
    "        listnull.append(listv)\n",
    "        \n",
    "    list_after_mean = []\n",
    "    for r in listnull:\n",
    "        list_after_mean.append(np.array(r).mean())\n",
    "    return list_after_mean"
   ]
  },
  {
   "cell_type": "code",
   "execution_count": 2,
   "metadata": {},
   "outputs": [],
   "source": [
    "def main(aim_lat, aim_lon, image_filepath, save_folder = None):\n",
    "    aim = [x for x in zip(aim_lon, aim_lat)]\n",
    "    data_mat, file_obj = loadimage(image_filepath)\n",
    "    dicti = {}\n",
    "    for i in aim:        \n",
    "        idmin_list =  locationid(data_mat, i[0], i[1])\n",
    "        dicti[i] = data_min4(idmin_list,file_obj)\n",
    "        \n",
    "    in_list = list(dicti.values())\n",
    "        \n",
    "    in_id = ['HRL051', 'HRL052', 'YAD152','YAD152A', 'YAD152C', 'YAD1561A', 'YAD169A', 'YAD169B', 'YAD169E', 'YAD169F']\n",
    "\n",
    "    for i in range(len(in_id)):\n",
    "        in_list[i].insert(0, in_id[i])\n",
    "        \n",
    "    if save_folder:\n",
    "        if not os.path.exists(save_folder):\n",
    "            os.makedirs(save_folder)\n",
    "        save_filepath = os.path.join(save_folder, image_filepath.split('/')[-1].replace('nc', 'csv'))\n",
    "    else:\n",
    "        save_filepath = image_filepath.replace('nc', 'csv')\n",
    "    \n",
    "    with open(save_filepath, 'w', newline='') as f:\n",
    "        fwr = csv.writer(f)\n",
    "\n",
    "        firstrow = ['idloc']\n",
    "        firstrow.extend(list(file_obj.variables.keys()))\n",
    "        \n",
    "        fwr.writerow(firstrow)\n",
    "        for i in in_list:\n",
    "            fwr.writerow(i)\n",
    "\n",
    "        \n",
    "    "
   ]
  },
  {
   "cell_type": "code",
   "execution_count": 3,
   "metadata": {},
   "outputs": [],
   "source": [
    "aim_lat = [35.68836, 35.67734, 35.66353, 35.65436, 35.646,\n",
    "           35.608,35.64477,35.62476, 35.61133, 35.60595]\n",
    "aim_lon = [-80.335184, -80.2507,-80.3542,-80.30535,-80.297,\n",
    "           -80.306, -80.25404, -80.25859, -80.23454, -80.23656]\n",
    "\n",
    "\n",
    "\n"
   ]
  },
  {
   "cell_type": "code",
   "execution_count": 9,
   "metadata": {},
   "outputs": [
    {
     "name": "stdout",
     "output_type": "stream",
     "text": [
      "dict_keys(['lon', 'lat', 'l2_flags', 'rhos_479', 'rhos_561', 'rhos_661', 'rhos_835', 'rhos_1650', 'rhos_2208'])\n",
      "dict_keys(['lon', 'lat', 'l2_flags', 'rhos_479', 'rhos_561', 'rhos_661', 'rhos_835', 'rhos_1650', 'rhos_2208'])\n",
      "dict_keys(['lon', 'lat', 'l2_flags', 'rhos_479', 'rhos_561', 'rhos_661', 'rhos_835', 'rhos_1650', 'rhos_2208'])\n",
      "dict_keys(['lon', 'lat', 'l2_flags', 'rhos_479', 'rhos_561', 'rhos_661', 'rhos_835', 'rhos_1650', 'rhos_2208'])\n",
      "dict_keys(['lon', 'lat', 'l2_flags', 'rhos_479', 'rhos_561', 'rhos_661', 'rhos_835', 'rhos_1650', 'rhos_2208'])\n"
     ]
    }
   ],
   "source": [
    "pathdir = \"E:/New folder/l8bands1\" \n",
    "files= os.listdir(pathdir)\n",
    "for file in files:\n",
    "    \n",
    "    file = pathdir+\"/\"+file\n",
    "    image_filepath = str(file)\n",
    "    \n",
    "    save_folder = 'F:/l8/l8bands9'\n",
    "    main(aim_lat,aim_lon,image_filepath, save_folder)\n"
   ]
  }
 ],
 "metadata": {
  "kernelspec": {
   "display_name": "Python 3",
   "language": "python",
   "name": "python3"
  },
  "language_info": {
   "codemirror_mode": {
    "name": "ipython",
    "version": 3
   },
   "file_extension": ".py",
   "mimetype": "text/x-python",
   "name": "python",
   "nbconvert_exporter": "python",
   "pygments_lexer": "ipython3",
   "version": "3.7.4"
  }
 },
 "nbformat": 4,
 "nbformat_minor": 2
}
